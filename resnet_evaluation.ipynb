{
 "cells": [
  {
   "cell_type": "markdown",
   "id": "d87d3885",
   "metadata": {},
   "source": [
    "## 4.4.3. Ewaluacja wyników klasyfikacji"
   ]
  },
  {
   "cell_type": "markdown",
   "id": "38ea0996",
   "metadata": {},
   "source": [
    "#### Importy i ustawienia środowiska"
   ]
  },
  {
   "cell_type": "code",
   "execution_count": null,
   "id": "75942f37",
   "metadata": {},
   "outputs": [],
   "source": [
    "import tensorflow as tf\n",
    "import pandas as pd\n",
    "import numpy as np\n",
    "import csv\n",
    "import matplotlib.pyplot as plt\n",
    "from sklearn.metrics import f1_score, roc_auc_score, precision_recall_curve, auc, confusion_matrix"
   ]
  },
  {
   "cell_type": "markdown",
   "id": "432186d3",
   "metadata": {},
   "source": [
    "#### Wczytanie modelu i danych testowych"
   ]
  },
  {
   "cell_type": "code",
   "execution_count": null,
   "id": "c258ac8c",
   "metadata": {},
   "outputs": [],
   "source": [
    "model = tf.keras.models.load_model(\"resnet50_best_model.h5\", compile=False)\n",
    "df_test = pd.read_csv(\"./data/processed/images_to_train/resnet/test.csv\")"
   ]
  },
  {
   "cell_type": "markdown",
   "id": "2097314a",
   "metadata": {},
   "source": [
    "#### Funkcja `load_image_test`\n",
    "Funkcja odpowiedzialna za wczytanie obrazu, jego dekodowanie, skalowanie do rozmiaru 224×224 oraz normalizację do [0, 1]."
   ]
  },
  {
   "cell_type": "code",
   "execution_count": null,
   "id": "d1414b0e",
   "metadata": {},
   "outputs": [],
   "source": [
    "def load_image_test(path, label):\n",
    "    image = tf.io.read_file(path)\n",
    "    image = tf.image.decode_jpeg(image, channels=3)\n",
    "    image = tf.image.resize(image, (224, 224)) / 255.0\n",
    "    return image, label"
   ]
  },
  {
   "cell_type": "markdown",
   "id": "644186c1",
   "metadata": {},
   "source": [
    "#### Funkcja `make_test_dataset`\n",
    "Funkcja odpowiedzialna za utworzenie zbioru, który wczytuje i przetwarza dane, grupuje w batch'e."
   ]
  },
  {
   "cell_type": "code",
   "execution_count": null,
   "id": "0781e2af",
   "metadata": {},
   "outputs": [],
   "source": [
    "def make_test_dataset(paths, labels, batch_size=32):\n",
    "    ds = tf.data.Dataset.from_tensor_slices((paths, labels))\n",
    "    ds = ds.map(load_image_test, num_parallel_calls=tf.data.AUTOTUNE)\n",
    "    return ds.batch(batch_size).prefetch(tf.data.AUTOTUNE)"
   ]
  },
  {
   "cell_type": "markdown",
   "id": "997d2732",
   "metadata": {},
   "source": [
    "#### Utworzenie zbioru danych gotowego do ewaluacji modelu."
   ]
  },
  {
   "cell_type": "code",
   "execution_count": null,
   "id": "cc58593a",
   "metadata": {},
   "outputs": [],
   "source": [
    "test_paths = df_test['path'].tolist()\n",
    "test_labels = df_test['label_risk_group'].tolist()\n",
    "test_ds = make_test_dataset(test_paths, test_labels)"
   ]
  },
  {
   "cell_type": "markdown",
   "id": "96caf84a",
   "metadata": {},
   "source": [
    "#### Obliczenie predykcji, znalezienie najlepszego progu oraz wyliczenie metryk klasyfikacyjnych."
   ]
  },
  {
   "cell_type": "code",
   "execution_count": null,
   "id": "2d5e0cc6",
   "metadata": {},
   "outputs": [],
   "source": [
    "y_true, y_pred_prob = [], []\n",
    "for images, labels in test_ds:\n",
    "    preds = model.predict(images).flatten()\n",
    "    y_pred_prob.extend(preds)\n",
    "    y_true.extend(labels.numpy())\n",
    "\n",
    "y_true = np.array(y_true)\n",
    "y_pred_prob = np.array(y_pred_prob)\n",
    "\n",
    "thresholds = np.linspace(0.1, 0.9, 81)\n",
    "f1_scores = [f1_score(y_true, (y_pred_prob >= t).astype(int))\n",
    "             for t in thresholds]\n",
    "best_threshold = thresholds[np.argmax(f1_scores)]\n",
    "\n",
    "y_pred = (y_pred_prob >= best_threshold).astype(int)\n",
    "\n",
    "f1 = f1_score(y_true, y_pred)\n",
    "auc_pr_value = roc_auc_score(y_true, y_pred_prob)\n",
    "auc_roc_value = tf.keras.metrics.AUC(curve='ROC')(y_true, y_pred_prob).numpy()\n",
    "tn, fp, fn, tp = confusion_matrix(y_true, y_pred).ravel()\n",
    "sensitivity = tp / (tp + fn)\n",
    "specificity = tn / (tn + fp)\n",
    "\n",
    "print(f\"F1-score: {f1:.4f}\")\n",
    "print(f\"AUC-PR: {auc_pr_value:.4f}\")\n",
    "print(f\"AUC-ROC: {auc_roc_value:.4f}\")\n",
    "print(f\"Sensitivity (Recall): {sensitivity:.4f}\")\n",
    "print(f\"Specificity: {specificity:.4f}\")\n",
    "print(f\"Best threshold: {best_threshold:.2f}\")\n",
    "\n",
    "results = {\n",
    "    \"F1-score\": f1,\n",
    "    \"AUC-PR\": auc_pr_value,\n",
    "    \"AUC-ROC\": auc_roc_value,\n",
    "    \"Sensitivity\": sensitivity,\n",
    "    \"Specificity\": specificity,\n",
    "    \"Best threshold\": best_threshold\n",
    "}\n",
    "\n",
    "with open(\"classification_test_results.csv\", mode=\"w\", newline=\"\") as file:\n",
    "    writer = csv.writer(file)\n",
    "    writer.writerow([\"Metric\", \"Value\"])\n",
    "    for key, value in results.items():\n",
    "        writer.writerow([key, round(value, 4)])"
   ]
  },
  {
   "cell_type": "markdown",
   "id": "4b259997",
   "metadata": {},
   "source": [
    "#### Wizualizacja jakości modelu poprzez krzywą precyzja–czułość (Precision–Recall)."
   ]
  },
  {
   "cell_type": "code",
   "execution_count": null,
   "id": "b4351a1e",
   "metadata": {},
   "outputs": [],
   "source": [
    "precision, recall, _ = precision_recall_curve(y_true, y_pred_prob)\n",
    "auc_val = auc(recall, precision)\n",
    "\n",
    "plt.figure()\n",
    "plt.plot(recall, precision, label=f\"AUC-PR = {auc_val:.2f}\")\n",
    "plt.xlabel(\"Recall\")\n",
    "plt.ylabel(\"Precision\")\n",
    "plt.title(\"Precision–Recall Curve – Zbiór testowy\")\n",
    "plt.legend()\n",
    "plt.grid(True)\n",
    "plt.savefig(\"plots/pr_curve_test.png\")"
   ]
  }
 ],
 "metadata": {
  "language_info": {
   "name": "python"
  }
 },
 "nbformat": 4,
 "nbformat_minor": 5
}
