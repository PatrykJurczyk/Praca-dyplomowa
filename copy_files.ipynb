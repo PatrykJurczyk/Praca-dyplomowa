{
 "cells": [
  {
   "cell_type": "markdown",
   "id": "b92f1652",
   "metadata": {},
   "source": [
    "## Proces wyodrębnienia przyzwoitych pseudo-masek"
   ]
  },
  {
   "cell_type": "markdown",
   "id": "1f28f4fd",
   "metadata": {},
   "source": [
    "#### Importowanie bibliotek"
   ]
  },
  {
   "cell_type": "code",
   "execution_count": 1,
   "id": "a8044ba0",
   "metadata": {},
   "outputs": [],
   "source": [
    "from pathlib import Path\n",
    "import shutil\n",
    "import csv"
   ]
  },
  {
   "cell_type": "markdown",
   "id": "2fe1960a",
   "metadata": {},
   "source": [
    "#### Funkcja `load_ids`\n",
    "Wczytanie listy identyfikatorów do przeprowadzenia kopiowania"
   ]
  },
  {
   "cell_type": "code",
   "execution_count": 2,
   "id": "b4f139e1",
   "metadata": {},
   "outputs": [],
   "source": [
    "def load_ids(csv_path, id_field = \"image_id\"):\n",
    "    ids = set()\n",
    "    with csv_path.open(newline=\"\", encoding=\"utf-8\") as f:\n",
    "        reader = csv.DictReader(f)\n",
    "        for row in reader:\n",
    "            ids.add(Path(row[id_field]).stem)\n",
    "    return ids"
   ]
  },
  {
   "cell_type": "markdown",
   "id": "a7d9ec19",
   "metadata": {},
   "source": [
    "#### Funkcja `build_file_index`\n",
    "Funkcja tworzy słownik indeksujący wszystkie pliki w katalogu w którym kluczem jest nazwa pliku bez rozszerzenia, a wartością pełna ścieżka."
   ]
  },
  {
   "cell_type": "code",
   "execution_count": 3,
   "id": "b74ab3dd",
   "metadata": {},
   "outputs": [],
   "source": [
    "def build_file_index(src_dir):\n",
    "    index = {}\n",
    "    for p in src_dir.iterdir():\n",
    "        if p.is_file():\n",
    "            index[p.stem] = p\n",
    "    return index"
   ]
  },
  {
   "cell_type": "markdown",
   "id": "6e7c7025",
   "metadata": {},
   "source": [
    "#### Funkcja `copy_selected_files`\n",
    "Funkcja odpowiadająca za przeprowadzenie kopiowania wybranych plików"
   ]
  },
  {
   "cell_type": "code",
   "execution_count": 4,
   "id": "81fc5494",
   "metadata": {},
   "outputs": [],
   "source": [
    "def copy_selected_files(src_dir, dst_dir, selected_ids, file_index,):\n",
    "    dst_dir.mkdir(parents=True, exist_ok=True)\n",
    "    for stem in selected_ids:\n",
    "        src = file_index.get(stem)\n",
    "        \n",
    "        if src and src.is_file():\n",
    "            shutil.copy2(src, dst_dir / src.name)\n",
    "        else:\n",
    "            print(F\"Brak pliku: {stem}\")\n",
    "    print(f\"Skopiowano {len(selected_ids)} plików z `{src_dir.name}` do `{dst_dir}`\")"
   ]
  },
  {
   "cell_type": "markdown",
   "id": "4c73f8d2",
   "metadata": {},
   "source": [
    "#### Funkcja `verify_consistency`\n",
    "Funkcja odpowiadająca za przeprowadzenie weryfikacji czy nowo powstałe foldery są spójne względem siebie"
   ]
  },
  {
   "cell_type": "code",
   "execution_count": 5,
   "id": "53b694af",
   "metadata": {},
   "outputs": [],
   "source": [
    "def verify_consistency(dir_a, dir_b):\n",
    "    a = {p.stem for p in dir_a.iterdir() if p.is_file()}\n",
    "    b = {p.stem for p in dir_b.iterdir() if p.is_file()}\n",
    "    only_a = a - b\n",
    "    only_b = b - a\n",
    "\n",
    "    if not only_a and not only_b:\n",
    "        print(\"Foldery są spójne.\")\n",
    "    else:\n",
    "        if only_a:\n",
    "            print(f\"Tylko w `{dir_a.name}`:\", only_a)\n",
    "        if only_b:\n",
    "            print(f\"Tylko w `{dir_b.name}`:\", only_b)\n",
    "    print(f\"Podsumowanie: `{dir_a.name}`={len(a)}, `{dir_b.name}`={len(b)}\")"
   ]
  },
  {
   "cell_type": "markdown",
   "id": "33c23c34",
   "metadata": {},
   "source": [
    "#### Funkcja `process_copy`\n",
    "Funkcja grupująca wywołanie wszystkich funkcji potrzebnych do poprawnego przeprowadzenia kopiowania plików"
   ]
  },
  {
   "cell_type": "code",
   "execution_count": 6,
   "id": "f123ebf8",
   "metadata": {},
   "outputs": [],
   "source": [
    "def process_copy(images_dir, masks_dir, csv_path, output_base, split_name = \"\", id_field = \"image_id\"):\n",
    "    good_ids = load_ids(csv_path, id_field)\n",
    "\n",
    "    idx_imgs  = build_file_index(images_dir)\n",
    "    idx_masks = build_file_index(masks_dir)\n",
    "\n",
    "    if split_name:\n",
    "        out_imgs  = output_base / split_name / \"images\"\n",
    "        out_masks = output_base / split_name / \"masks\"\n",
    "    else:\n",
    "        out_imgs  = output_base / \"images\"\n",
    "        out_masks = output_base / \"masks\"\n",
    "\n",
    "    copy_selected_files(images_dir, out_imgs, good_ids, idx_imgs)\n",
    "    copy_selected_files(masks_dir, out_masks, good_ids, idx_masks)\n",
    "    verify_consistency(out_imgs, out_masks)"
   ]
  }
 ],
 "metadata": {
  "kernelspec": {
   "display_name": "Python 3",
   "language": "python",
   "name": "python3"
  },
  "language_info": {
   "codemirror_mode": {
    "name": "ipython",
    "version": 3
   },
   "file_extension": ".py",
   "mimetype": "text/x-python",
   "name": "python",
   "nbconvert_exporter": "python",
   "pygments_lexer": "ipython3",
   "version": "3.11.9"
  }
 },
 "nbformat": 4,
 "nbformat_minor": 5
}
