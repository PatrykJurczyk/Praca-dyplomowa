{
 "cells": [
  {
   "cell_type": "markdown",
   "id": "ab796918",
   "metadata": {},
   "source": [
    "## Przeprowadzenie operacji zmiany rozmiaru zdjęć potrzebnych do uczenia sieci"
   ]
  },
  {
   "cell_type": "markdown",
   "id": "df263d27",
   "metadata": {},
   "source": [
    "#### Importowanie bibliotek"
   ]
  },
  {
   "cell_type": "code",
   "execution_count": 1,
   "id": "b061f540",
   "metadata": {},
   "outputs": [],
   "source": [
    "import cv2"
   ]
  },
  {
   "cell_type": "markdown",
   "id": "573109fd",
   "metadata": {},
   "source": [
    "#### Funkcja `prepare_output_dirs`\n",
    "Przygotowanie katalogó wyjściowych, jeśli nie istnieją."
   ]
  },
  {
   "cell_type": "code",
   "execution_count": 2,
   "id": "c766de85",
   "metadata": {},
   "outputs": [],
   "source": [
    "def prepare_output_dirs(output_images_dir, output_masks_dir):\n",
    "    output_images_dir.mkdir(parents=True, exist_ok=True)\n",
    "    output_masks_dir.mkdir(parents=True, exist_ok=True)"
   ]
  },
  {
   "cell_type": "markdown",
   "id": "136d3984",
   "metadata": {},
   "source": [
    "#### Funkcja `resize_with_padding`\n",
    "Funkcja do zmiany rozmiaru z zachowaniem proporcji"
   ]
  },
  {
   "cell_type": "code",
   "execution_count": 3,
   "id": "94e23ca4",
   "metadata": {},
   "outputs": [],
   "source": [
    "def resize_with_padding(image, size, is_mask = False):\n",
    "    h, w = image.shape[:2]\n",
    "    scale = min(size[1] / h, size[0] / w)\n",
    "    new_w, new_h = int(w * scale), int(h * scale)\n",
    "    interp = cv2.INTER_NEAREST if is_mask else cv2.INTER_AREA\n",
    "\n",
    "    resized = cv2.resize(image, (new_w, new_h), interpolation=interp)\n",
    "    top = (size[1] - new_h) // 2\n",
    "    bottom = size[1] - new_h - top\n",
    "    left = (size[0] - new_w) // 2\n",
    "    right = size[0] - new_w - left\n",
    "\n",
    "    border_val = 0 if is_mask else [0, 0, 0]\n",
    "    return cv2.copyMakeBorder(resized, top, bottom, left, right, cv2.BORDER_CONSTANT, value=border_val)"
   ]
  },
  {
   "cell_type": "markdown",
   "id": "4a5fe18f",
   "metadata": {},
   "source": [
    "#### Funkcja `report_file_counts`\n",
    "Wyświetlenie informacji na temat ilości zdjęć i masek"
   ]
  },
  {
   "cell_type": "code",
   "execution_count": 4,
   "id": "a782cc5f",
   "metadata": {},
   "outputs": [],
   "source": [
    "def report_file_counts(input_images_dir, input_masks_dir):\n",
    "    image_paths = sorted(input_images_dir.iterdir())\n",
    "    mask_paths = sorted(input_masks_dir.iterdir())\n",
    "\n",
    "    print(f\"Znaleziono {len(image_paths)} zdjęć i {len(mask_paths)} masek.\")"
   ]
  },
  {
   "cell_type": "markdown",
   "id": "48104ed6",
   "metadata": {},
   "source": [
    "#### Funkcja `process_images`\n",
    "Funkcja odpowiedziala za przetworzenie zdjęć i ich zapis"
   ]
  },
  {
   "cell_type": "code",
   "execution_count": 5,
   "id": "9b76df64",
   "metadata": {},
   "outputs": [],
   "source": [
    "def process_images(src_img_dir, src_mask_dir, dst_img_dir, dst_mask_dir, target_size):\n",
    "    img_paths = sorted(src_img_dir.iterdir())\n",
    "\n",
    "    for img_path in img_paths:\n",
    "        base = img_path.stem\n",
    "        mask_path = src_mask_dir / f\"{base}.jpg\"\n",
    "        \n",
    "        if not mask_path.exists():\n",
    "            print(f\"Brak maski dla {base}.\")\n",
    "            continue\n",
    "\n",
    "        img = cv2.imread(str(img_path))\n",
    "        msk = cv2.imread(str(mask_path), cv2.IMREAD_GRAYSCALE)\n",
    "        \n",
    "        if img is None or msk is None:\n",
    "            print(f\"Błąd wczytywania {base}.\")\n",
    "            continue\n",
    "\n",
    "        img_out = resize_with_padding(img, target_size, is_mask=False)\n",
    "        msk_out = resize_with_padding(msk, target_size, is_mask=True)\n",
    "\n",
    "        cv2.imwrite(str(dst_img_dir / f\"{base}.jpg\"), img_out)\n",
    "        cv2.imwrite(str(dst_mask_dir / f\"{base}.jpg\"), msk_out)\n",
    "    print(\"Zakończono przetwarzanie\")"
   ]
  },
  {
   "cell_type": "markdown",
   "id": "b0eaca79",
   "metadata": {},
   "source": [
    "#### Funkcja `process_resize`\n",
    "Funkcja wywołująca wszystkie wymagane funkcje do przeprowadzenia zmiany rozmiaru zdjęcia"
   ]
  },
  {
   "cell_type": "code",
   "execution_count": 6,
   "id": "c5c88d15",
   "metadata": {},
   "outputs": [],
   "source": [
    "def process_resize(input_images_dir, input_masks_dir, output_images_dir, output_masks_dir, target_size):\n",
    "    prepare_output_dirs(output_images_dir, output_masks_dir)\n",
    "    report_file_counts(input_images_dir, input_masks_dir)\n",
    "   \n",
    "    process_images(input_images_dir, input_masks_dir, output_images_dir, output_masks_dir, target_size)"
   ]
  }
 ],
 "metadata": {
  "kernelspec": {
   "display_name": "Python 3",
   "language": "python",
   "name": "python3"
  },
  "language_info": {
   "codemirror_mode": {
    "name": "ipython",
    "version": 3
   },
   "file_extension": ".py",
   "mimetype": "text/x-python",
   "name": "python",
   "nbconvert_exporter": "python",
   "pygments_lexer": "ipython3",
   "version": "3.11.9"
  }
 },
 "nbformat": 4,
 "nbformat_minor": 5
}
