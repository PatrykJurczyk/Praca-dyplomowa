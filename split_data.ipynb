{
 "cells": [
  {
   "cell_type": "markdown",
   "id": "e1f7d987",
   "metadata": {},
   "source": [
    "## Podział danych na dwa foldery. Folder zawierający dane testowe około 10% i folder zawieracjący dane treningowe około 90%"
   ]
  },
  {
   "cell_type": "markdown",
   "id": "ea1db314",
   "metadata": {},
   "source": [
    "#### Importowanie bibliotek"
   ]
  },
  {
   "cell_type": "code",
   "execution_count": 1,
   "id": "aa42d370",
   "metadata": {},
   "outputs": [],
   "source": [
    "import pandas as pd\n",
    "from sklearn.model_selection import train_test_split"
   ]
  },
  {
   "cell_type": "markdown",
   "id": "e6879a22",
   "metadata": {},
   "source": [
    "#### Funkcja `extract_lesion_df`\n",
    "Funkcja odpowiedzialna za wyodrębnienie unikalnych lesion_id i ich grup ryzyka"
   ]
  },
  {
   "cell_type": "code",
   "execution_count": 2,
   "id": "b19d9c8b",
   "metadata": {},
   "outputs": [],
   "source": [
    "def extract_lesion_df(df):\n",
    "    return (df[[\"lesion_id\", \"risk_group\"]].drop_duplicates(subset=\"lesion_id\").reset_index(drop=True))"
   ]
  },
  {
   "cell_type": "markdown",
   "id": "fd2150c3",
   "metadata": {},
   "source": [
    "#### Funkcja `split_lesions`\n",
    "Funkcja odpowiedzialna za podzielenie danych z uwzględnieniem stratify"
   ]
  },
  {
   "cell_type": "code",
   "execution_count": 3,
   "id": "19784aae",
   "metadata": {},
   "outputs": [],
   "source": [
    "def split_lesions(lesion_df, test_size = 0.10, random_state = 42):\n",
    "    train_le, test_le = train_test_split(lesion_df, test_size=test_size, random_state=random_state, stratify=lesion_df[\"risk_group\"])\n",
    "    return train_le[\"lesion_id\"].tolist(), test_le[\"lesion_id\"].tolist()"
   ]
  },
  {
   "cell_type": "markdown",
   "id": "ad849cad",
   "metadata": {},
   "source": [
    "#### Funkcja `filter_by_ids`\n",
    "Funkcja odpowiedzialna za filtrowanie wierszy na podstawie listy identyfikatorów"
   ]
  },
  {
   "cell_type": "code",
   "execution_count": 4,
   "id": "a5adda6f",
   "metadata": {},
   "outputs": [],
   "source": [
    "def filter_by_ids(df, ids, id_field = \"lesion_id\"):\n",
    "    return df[df[id_field].isin(ids)].reset_index(drop=True)"
   ]
  },
  {
   "cell_type": "markdown",
   "id": "48c79015",
   "metadata": {},
   "source": [
    "#### Funkcja `save_splits`\n",
    "Funkcja odpowiedzialna za zapisanie przeprowadzonego podziału do plików .csv"
   ]
  },
  {
   "cell_type": "code",
   "execution_count": 5,
   "id": "f2e328bf",
   "metadata": {},
   "outputs": [],
   "source": [
    "def save_splits(train_df, test_df, output_dir):\n",
    "    output_dir.mkdir(parents=True, exist_ok=True)\n",
    "    train_df.to_csv(output_dir / \"train.csv\", index=False)\n",
    "    test_df.to_csv(output_dir / \"test.csv\", index=False)\n",
    "    print(f\"Zapisano train.csv i test.csv w {output_dir}\")\n",
    "    print(f\"Wierszy: train={len(train_df)}, test={len(test_df)}\")"
   ]
  },
  {
   "cell_type": "markdown",
   "id": "7465ea9f",
   "metadata": {},
   "source": [
    "#### Funkcja `run_data_split`\n",
    "Funckja składająca wywołanie wymaganych funkcji do przeprowadznia podziału danych"
   ]
  },
  {
   "cell_type": "code",
   "execution_count": 6,
   "id": "be83218a",
   "metadata": {},
   "outputs": [],
   "source": [
    "def run_data_split(data_csv, output_dir, test_size= 0.10, random_state = 42):\n",
    "    df = pd.read_csv(data_csv)\n",
    "    lesion_df = extract_lesion_df(df)\n",
    "    train_ids, test_ids = split_lesions(lesion_df, test_size, random_state)\n",
    "\n",
    "    train_df = filter_by_ids(df, train_ids)\n",
    "    test_df  = filter_by_ids(df, test_ids)\n",
    "\n",
    "    save_splits(train_df, test_df, output_dir)"
   ]
  }
 ],
 "metadata": {
  "kernelspec": {
   "display_name": "Python 3",
   "language": "python",
   "name": "python3"
  },
  "language_info": {
   "codemirror_mode": {
    "name": "ipython",
    "version": 3
   },
   "file_extension": ".py",
   "mimetype": "text/x-python",
   "name": "python",
   "nbconvert_exporter": "python",
   "pygments_lexer": "ipython3",
   "version": "3.11.9"
  }
 },
 "nbformat": 4,
 "nbformat_minor": 5
}
