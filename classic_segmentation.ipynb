{
 "cells": [
  {
   "cell_type": "markdown",
   "id": "fbdb9049",
   "metadata": {},
   "source": [
    "### 4.3 Segmentacja klasyczna"
   ]
  },
  {
   "cell_type": "markdown",
   "id": "acdedf8d",
   "metadata": {},
   "source": [
    "#### Importowanie bibliotek"
   ]
  },
  {
   "cell_type": "code",
   "execution_count": 1,
   "id": "c5909727",
   "metadata": {},
   "outputs": [],
   "source": [
    "import cv2\n",
    "import numpy as np\n",
    "from pathlib import Path"
   ]
  },
  {
   "cell_type": "markdown",
   "id": "6aee5728",
   "metadata": {},
   "source": [
    "#### Funkcja `classic_segmentation`\n",
    "Segmentacja klasyczna: progowanie Otsu, wybór największego konturu."
   ]
  },
  {
   "cell_type": "code",
   "execution_count": 2,
   "id": "32df0c7f",
   "metadata": {},
   "outputs": [],
   "source": [
    "def classic_segmentation(image):\n",
    "    gray = cv2.cvtColor(image, cv2.COLOR_BGR2GRAY)\n",
    "    _, mask = cv2.threshold(gray, 0, 255, cv2.THRESH_BINARY_INV + cv2.THRESH_OTSU)\n",
    "    contours, _ = cv2.findContours(mask, cv2.RETR_EXTERNAL, cv2.CHAIN_APPROX_NONE)\n",
    "\n",
    "    if not contours:\n",
    "        return None\n",
    "\n",
    "    cnt = max(contours, key=cv2.contourArea)\n",
    "    out = np.zeros_like(gray)\n",
    "    cv2.drawContours(out, [cnt], -1, 255, cv2.FILLED)\n",
    "    return out"
   ]
  },
  {
   "cell_type": "markdown",
   "id": "12d29410",
   "metadata": {},
   "source": [
    "#### Funkcja `segment_folder`\n",
    "Segmentacja folderu obrazów: zapisuje maski klasyczne."
   ]
  },
  {
   "cell_type": "code",
   "execution_count": 3,
   "id": "61836f7c",
   "metadata": {},
   "outputs": [],
   "source": [
    "def segment_folder(input_dir, mask_dir):\n",
    "    in_path = Path(input_dir)\n",
    "    mask_path = Path(mask_dir)\n",
    "    mask_path.mkdir(parents=True, exist_ok=True)\n",
    "\n",
    "    for img_file in in_path.glob('*.*'):\n",
    "        img = cv2.imread(str(img_file))\n",
    "        if img is None:\n",
    "            continue\n",
    "\n",
    "        mask = classic_segmentation(img)\n",
    "        \n",
    "        if mask is None:\n",
    "            print(f'Brak konturu w {img_file.name}')\n",
    "            continue\n",
    "        cv2.imwrite(str(mask_path / img_file.name), mask)"
   ]
  }
 ],
 "metadata": {
  "kernelspec": {
   "display_name": "Python 3",
   "language": "python",
   "name": "python3"
  },
  "language_info": {
   "codemirror_mode": {
    "name": "ipython",
    "version": 3
   },
   "file_extension": ".py",
   "mimetype": "text/x-python",
   "name": "python",
   "nbconvert_exporter": "python",
   "pygments_lexer": "ipython3",
   "version": "3.11.9"
  }
 },
 "nbformat": 4,
 "nbformat_minor": 5
}
