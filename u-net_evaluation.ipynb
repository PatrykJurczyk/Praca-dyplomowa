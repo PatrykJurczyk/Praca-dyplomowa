{
 "cells": [
  {
   "cell_type": "markdown",
   "id": "7288ac6b",
   "metadata": {},
   "source": [
    "## 4.3.3. Ewaluacja wyników segmentacji"
   ]
  },
  {
   "cell_type": "markdown",
   "id": "bfd66fab",
   "metadata": {},
   "source": [
    "#### Importy"
   ]
  },
  {
   "cell_type": "code",
   "execution_count": null,
   "id": "2333d8cd",
   "metadata": {},
   "outputs": [],
   "source": [
    "import cv2\n",
    "import numpy as np\n",
    "import pandas as pd\n",
    "import tensorflow as tf\n",
    "from pathlib import Path"
   ]
  },
  {
   "cell_type": "markdown",
   "id": "f97b06a7",
   "metadata": {},
   "source": [
    "#### Funkcja `load_image`\n",
    "Funkcja odpowiedzialna za wczytanie obrazu i normalizacja pikseli do [0,1]."
   ]
  },
  {
   "cell_type": "code",
   "execution_count": 3,
   "id": "57fe153e",
   "metadata": {},
   "outputs": [],
   "source": [
    "def load_image(path):\n",
    "    img = cv2.imread(str(path))\n",
    "    if img is None:\n",
    "        print(\"Nie można wczytać obrazu\")\n",
    "        return None\n",
    "    return img.astype(np.float32) / 255.0"
   ]
  },
  {
   "cell_type": "markdown",
   "id": "070cfd9a",
   "metadata": {},
   "source": [
    "#### Funkcja `load_mask`\n",
    "Funkcja odpowiedziana za wczytanie obrazu maski i zastosowanie label smoothing który poprawia stabilność uczenia i ułatwia generalizację modelu"
   ]
  },
  {
   "cell_type": "code",
   "execution_count": 4,
   "id": "544ee1c0",
   "metadata": {},
   "outputs": [],
   "source": [
    "def load_mask(path, smooth=0.1):\n",
    "    mask = cv2.imread(str(path), cv2.IMREAD_GRAYSCALE)\n",
    "    if mask is None:\n",
    "        print(\"Nie można wczytać maski\")\n",
    "        return None\n",
    "    m = mask.astype(np.float32) / 255.0\n",
    "    \n",
    "    m = m * (1 - smooth) + (smooth / 2)\n",
    "    return np.expand_dims(m, axis=-1)"
   ]
  },
  {
   "cell_type": "markdown",
   "id": "4dcd1f99",
   "metadata": {},
   "source": [
    "#### Funkcja `iou_metric`\n",
    "Funkcja wyliczająca miarę IoU"
   ]
  },
  {
   "cell_type": "code",
   "execution_count": 5,
   "id": "f51eb711",
   "metadata": {},
   "outputs": [],
   "source": [
    "def iou_metric(y_true, y_pred, smooth=1e-6):\n",
    "    y_pred = tf.round(y_pred)\n",
    "    inter = tf.reduce_sum(y_true * y_pred)\n",
    "    union = tf.reduce_sum(y_true) + tf.reduce_sum(y_pred) - inter\n",
    "    return (inter + smooth) / (union + smooth)"
   ]
  },
  {
   "cell_type": "markdown",
   "id": "e3af537d",
   "metadata": {},
   "source": [
    "#### Funkcja `dice_coef`\n",
    "Funkcja wylicająca miarę DICE"
   ]
  },
  {
   "cell_type": "code",
   "execution_count": 6,
   "id": "d4fc922b",
   "metadata": {},
   "outputs": [],
   "source": [
    "def dice_coef(y_true, y_pred, smooth=1e-6):\n",
    "    y_pred = tf.round(y_pred)\n",
    "    inter = tf.reduce_sum(y_true * y_pred)\n",
    "    return (2 * inter + smooth) / (tf.reduce_sum(y_true) + tf.reduce_sum(y_pred) + smooth)"
   ]
  },
  {
   "cell_type": "markdown",
   "id": "084fbe69",
   "metadata": {},
   "source": [
    "#### Funkcja `recall_metric`\n",
    "Funkcja wyliczająca miarę recall"
   ]
  },
  {
   "cell_type": "code",
   "execution_count": 7,
   "id": "e110faf8",
   "metadata": {},
   "outputs": [],
   "source": [
    "def recall_metric(y_true, y_pred, smooth=1e-6):\n",
    "    y_pred = tf.round(y_pred)\n",
    "    tp = tf.reduce_sum(y_true * y_pred)\n",
    "    return (tp + smooth) / (tf.reduce_sum(y_true) + smooth)"
   ]
  },
  {
   "cell_type": "markdown",
   "id": "f2237622",
   "metadata": {},
   "source": [
    "#### Funkcja `bce_dice_loss`\n",
    "Funkcja obliczająca stratę"
   ]
  },
  {
   "cell_type": "code",
   "execution_count": 8,
   "id": "6b608300",
   "metadata": {},
   "outputs": [],
   "source": [
    "def bce_dice_loss(y_true, y_pred):\n",
    "    bce = tf.keras.losses.binary_crossentropy(y_true, y_pred)\n",
    "    dice = 1 - dice_coef(y_true, y_pred)\n",
    "    return 0.7 * bce + 0.3 * dice"
   ]
  },
  {
   "cell_type": "markdown",
   "id": "42d7153b",
   "metadata": {},
   "source": [
    "#### Załadowanie modelu"
   ]
  },
  {
   "cell_type": "code",
   "execution_count": 10,
   "id": "5d8b556b",
   "metadata": {},
   "outputs": [],
   "source": [
    "model = tf.keras.models.load_model(\n",
    "    'unet_best_model.h5',\n",
    "    custom_objects={\n",
    "        'bce_dice_loss': bce_dice_loss,\n",
    "        'iou_metric': iou_metric,\n",
    "        'dice_coef': dice_coef,\n",
    "        'recall_metric': recall_metric\n",
    "    },\n",
    "    compile=False,\n",
    ")"
   ]
  },
  {
   "cell_type": "markdown",
   "id": "15ba0904",
   "metadata": {},
   "source": [
    "#### Przygotowanie zbioru testowego"
   ]
  },
  {
   "cell_type": "code",
   "execution_count": null,
   "id": "8eb033f4",
   "metadata": {},
   "outputs": [],
   "source": [
    "test_pairs = []\n",
    "for img_path in sorted(Path(\"./processed/images_to_train/u-net/test/images\").glob(\"*.*\")):\n",
    "    base = img_path.stem\n",
    "    mask_path = Path(\"./processed/images_to_train/u-net/test/masks\") / f\"{base}.jpg\"\n",
    "    if not mask_path.exists():\n",
    "        continue\n",
    "    test_pairs.append((img_path, mask_path))\n"
   ]
  },
  {
   "cell_type": "markdown",
   "id": "8c5ed511",
   "metadata": {},
   "source": [
    "#### Wyliczenie metryk"
   ]
  },
  {
   "cell_type": "code",
   "execution_count": null,
   "id": "512a3bd6",
   "metadata": {},
   "outputs": [],
   "source": [
    "total_iou, total_dice, total_recall = 0, 0, 0\n",
    "\n",
    "for img_path, mask_path in test_pairs:\n",
    "    img = load_image(img_path)\n",
    "    if img is None:\n",
    "        continue\n",
    "\n",
    "    mask = load_mask(mask_path)\n",
    "    if mask is None:\n",
    "        continue\n",
    "\n",
    "    img_input = np.expand_dims(img, axis=0)\n",
    "    pred = model.predict(img_input, verbose=0)[0, :, :, 0]\n",
    "\n",
    "    pred_mask = np.where(pred > 0.5, 1.0, 0.0)\n",
    "    mask_bin = np.where(mask[:, :, 0] > 0.5, 1.0, 0.0)\n",
    "\n",
    "    iou = iou_metric(mask_bin, pred_mask).numpy()\n",
    "    dice = dice_coef(mask_bin, pred_mask).numpy()\n",
    "    recall = recall_metric(mask_bin, pred_mask).numpy()\n",
    "\n",
    "    total_iou += iou\n",
    "    total_dice += dice\n",
    "    total_recall += recall"
   ]
  },
  {
   "cell_type": "markdown",
   "id": "794f8cdc",
   "metadata": {},
   "source": [
    "## Wyniki\n",
    "Prezentazja wyników i zapis do pliku"
   ]
  },
  {
   "cell_type": "code",
   "execution_count": null,
   "id": "3cbdde85",
   "metadata": {},
   "outputs": [],
   "source": [
    "n = len(test_pairs)\n",
    "print(f\"Test set (n={n}):\")\n",
    "print(f\"IoU: {total_iou / n:.4f}\")\n",
    "print(f\"Dice: {total_dice / n:.4f}\")\n",
    "print(f\"Recall: {total_recall / n:.4f}\")\n",
    "\n",
    "df = pd.DataFrame({\n",
    "    'Test set size': [n],\n",
    "    'IoU': [total_recall / n],\n",
    "    'Dice': [total_recall / n],\n",
    "    'Recall': [total_recall / n]\n",
    "})\n",
    "\n",
    "df.to_csv('segmentation_test_results.csv', index=False)"
   ]
  }
 ],
 "metadata": {
  "kernelspec": {
   "display_name": "Python 3",
   "language": "python",
   "name": "python3"
  },
  "language_info": {
   "codemirror_mode": {
    "name": "ipython",
    "version": 3
   },
   "file_extension": ".py",
   "mimetype": "text/x-python",
   "name": "python",
   "nbconvert_exporter": "python",
   "pygments_lexer": "ipython3",
   "version": "3.11.9"
  }
 },
 "nbformat": 4,
 "nbformat_minor": 5
}
