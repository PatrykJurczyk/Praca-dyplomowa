{
 "cells": [
  {
   "cell_type": "markdown",
   "id": "d5048e93",
   "metadata": {},
   "source": [
    "## 4.4.2. ResNet-50 - budowa modelu i trening"
   ]
  },
  {
   "cell_type": "markdown",
   "id": "734d5a7b",
   "metadata": {},
   "source": [
    "#### Importy i ustawienia środowiska"
   ]
  },
  {
   "cell_type": "code",
   "execution_count": null,
   "id": "726f36cf",
   "metadata": {},
   "outputs": [],
   "source": [
    "import tensorflow as tf\n",
    "import pandas as pd\n",
    "import numpy as np\n",
    "import matplotlib.pyplot as plt\n",
    "from pathlib import Path\n",
    "from sklearn.model_selection import StratifiedKFold\n",
    "from sklearn.metrics import f1_score, roc_auc_score, precision_recall_curve, auc, confusion_matrix\n",
    "from tensorflow_addons.losses import SigmoidFocalCrossEntropy"
   ]
  },
  {
   "cell_type": "markdown",
   "id": "9e0b72d4",
   "metadata": {},
   "source": [
    "#### Wczytanie danych"
   ]
  },
  {
   "cell_type": "code",
   "execution_count": null,
   "id": "ac6d15d5",
   "metadata": {},
   "outputs": [],
   "source": [
    "df = pd.read_csv(\"./data/processed/images_to_train/resnet/train.csv\")"
   ]
  },
  {
   "cell_type": "markdown",
   "id": "27cdc6a8",
   "metadata": {},
   "source": [
    "#### Funkcja `augmentation`\n",
    "Funkcja odpowiedzialna za przeprowadzenie losowego odbicia w poziomie, losowej zmiany jasności, losowej zmiany kontrastu, losowego obrotu o wielokrotność 90 stopni oraz losowego przesunięcia w poziomie i pionie."
   ]
  },
  {
   "cell_type": "code",
   "execution_count": 8,
   "id": "f9940a39",
   "metadata": {},
   "outputs": [],
   "source": [
    "random_translation_layer = tf.keras.layers.RandomTranslation(0.1, 0.1)\n",
    "\n",
    "def augmentation(image):\n",
    "    image = tf.image.random_flip_left_right(image)\n",
    "    image = tf.image.random_brightness(image, max_delta=0.1)\n",
    "    image = tf.image.random_contrast(image, 0.9, 1.1)\n",
    "    image = tf.image.rot90(image, k=tf.random.uniform([], 0, 4, dtype=tf.int32))\n",
    "    image = random_translation_layer(image, training=True)\n",
    "    return image"
   ]
  },
  {
   "cell_type": "markdown",
   "id": "0596fdcf",
   "metadata": {},
   "source": [
    "#### Funkcja `load_image`\n",
    "Funkcja odpowiedzialna za wczytanie obrazu, jego dekodowanie, skalowanie do rozmiaru 224×224 oraz normalizację do [0, 1]. Dodatkowo, w zależności od etykiety z określonym prawdopodobieństwem, stosuje augmentacje obrazu."
   ]
  },
  {
   "cell_type": "code",
   "execution_count": 9,
   "id": "9c83fc80",
   "metadata": {},
   "outputs": [],
   "source": [
    "def load_image(path, label):\n",
    "    image = tf.io.read_file(path)\n",
    "    image = tf.image.decode_jpeg(image, channels=3)\n",
    "    image = tf.image.resize(image, (224, 224)) / 255.0\n",
    "    if tf.equal(label, 1):\n",
    "        image = augmentation(image)\n",
    "    elif tf.random.uniform(()) < 0.1:\n",
    "        image = augmentation(image)\n",
    "    return image, label"
   ]
  },
  {
   "cell_type": "markdown",
   "id": "6ab715e9",
   "metadata": {},
   "source": [
    "#### Funkcja `make_dataset`\n",
    "Funkcja odpowiedzialna za utworzenie zbioru, który wczytuje i przetwarza dane, opcjonalnie je miesza, grupuje w batch'e."
   ]
  },
  {
   "cell_type": "code",
   "execution_count": null,
   "id": "5b50fdb7",
   "metadata": {},
   "outputs": [],
   "source": [
    "def make_dataset(paths, labels, batch_size=32, shuffle=True):\n",
    "    ds = tf.data.Dataset.from_tensor_slices((paths, labels))\n",
    "    if shuffle:\n",
    "        ds = ds.shuffle(buffer_size=len(paths))\n",
    "    ds = ds.map(load_image, num_parallel_calls=tf.data.AUTOTUNE)\n",
    "    return ds.batch(batch_size).prefetch(tf.data.AUTOTUNE)"
   ]
  },
  {
   "cell_type": "markdown",
   "id": "6c312dc7",
   "metadata": {},
   "source": [
    "#### Funkcja `get_custom_class_weights`\n",
    "Funkcja odpowiedzialna za obliczenie wag klas z uwzględnieniem nierównowagi danych oraz dodatkowego wzmocnienia klasy mniejszościowej przez parametr weight_ratio."
   ]
  },
  {
   "cell_type": "code",
   "execution_count": null,
   "id": "76fadc2e",
   "metadata": {},
   "outputs": [],
   "source": [
    "def get_custom_class_weights(labels, weight_ratio=2.0):\n",
    "    class_counts = np.bincount(labels)\n",
    "    total = sum(class_counts)\n",
    "    weight_for_0 = total / (2.0 * class_counts[0])\n",
    "    weight_for_1 = total / (2.0 * class_counts[1]) * weight_ratio\n",
    "    return {0: weight_for_0, 1: weight_for_1}"
   ]
  },
  {
   "cell_type": "markdown",
   "id": "80e0a107",
   "metadata": {},
   "source": [
    "#### Funkcja `build_model`\n",
    "Funkcja odpowiedzialna za zbudowanie i skompilowanie modelu z częściowym odmrożeniem wag, dodaniem warstw końcowych oraz konfiguracją optymalizatora, funkcji straty i metryk."
   ]
  },
  {
   "cell_type": "code",
   "execution_count": null,
   "id": "f9176aa5",
   "metadata": {},
   "outputs": [],
   "source": [
    "def build_model():\n",
    "    base_model = tf.keras.applications.ResNet50(input_shape=(\n",
    "        224, 224, 3), include_top=False, weights='imagenet', pooling='avg')\n",
    "    \n",
    "    base_model.trainable = True\n",
    "    for layer in base_model.layers[:-30]:\n",
    "        layer.trainable = False\n",
    "\n",
    "    model = tf.keras.Sequential([\n",
    "        base_model,\n",
    "        tf.keras.layers.Dropout(0.5),\n",
    "        tf.keras.layers.Dense(1, activation='sigmoid')\n",
    "    ])\n",
    "\n",
    "    model.compile(\n",
    "        optimizer=tf.keras.optimizers.Adam(1e-4),\n",
    "        loss=SigmoidFocalCrossEntropy(),\n",
    "        metrics=[\n",
    "            'accuracy',\n",
    "            tf.keras.metrics.Precision(),\n",
    "            tf.keras.metrics.Recall(),\n",
    "            tf.keras.metrics.AUC(name='auc_pr', curve='PR'),\n",
    "            tf.keras.metrics.AUC(name='auc_roc', curve='ROC')\n",
    "        ]\n",
    "    )\n",
    "    return model"
   ]
  },
  {
   "cell_type": "markdown",
   "id": "bbdfe9f5",
   "metadata": {},
   "source": [
    "#### Funkcja `get_callbacks`\n",
    "Funkcja odpowiedzialna za utworzenie zestawu callbacków wspomagających trening"
   ]
  },
  {
   "cell_type": "code",
   "execution_count": null,
   "id": "5420c479",
   "metadata": {},
   "outputs": [],
   "source": [
    "def get_callbacks():\n",
    "    return [\n",
    "        tf.keras.callbacks.EarlyStopping(\n",
    "            monitor='val_auc_pr', mode='max', patience=5, restore_best_weights=True),\n",
    "        tf.keras.callbacks.ReduceLROnPlateau(\n",
    "            monitor='val_auc_pr', mode='max', factor=0.2, patience=3, min_lr=1e-6)\n",
    "    ]"
   ]
  },
  {
   "cell_type": "markdown",
   "id": "3a5adf46",
   "metadata": {},
   "source": [
    "#### Funkcja `evaluate_model`\n",
    "Funkcja odpowiedzialna za ocenę skuteczności modelu na zbiorze walidacyjnym poprzez obliczenie metryk, a także za wygenerowanie i zapis wykresu krzywej Precision–Recall dla danego folda."
   ]
  },
  {
   "cell_type": "code",
   "execution_count": null,
   "id": "cf6cbc56",
   "metadata": {},
   "outputs": [],
   "source": [
    "def evaluate_model(model, val_ds, fold, plots_dir, metrics_summary):\n",
    "    y_true, y_pred_prob = [], []\n",
    "    for images, labels in val_ds:\n",
    "        preds = model.predict(images).flatten()\n",
    "        y_pred_prob.extend(preds)\n",
    "        y_true.extend(labels.numpy())\n",
    "\n",
    "    y_true = np.array(y_true)\n",
    "    y_pred_prob = np.array(y_pred_prob)\n",
    "    thresholds = np.linspace(0.1, 0.9, 81)\n",
    "    f1_scores = [f1_score(y_true, (y_pred_prob >= t).astype(int)) for t in thresholds]\n",
    "    best_threshold = thresholds[np.argmax(f1_scores)]\n",
    "    y_pred = (y_pred_prob >= best_threshold).astype(int)\n",
    "\n",
    "    f1 = f1_score(y_true, y_pred)\n",
    "    auc_pr_value = roc_auc_score(y_true, y_pred_prob)\n",
    "    auc_roc_value = tf.keras.metrics.AUC(curve='ROC')(y_true, y_pred_prob).numpy()\n",
    "    tn, fp, fn, tp = confusion_matrix(y_true, y_pred).ravel()\n",
    "    sensitivity = tp / (tp + fn)\n",
    "    specificity = tn / (tn + fp)\n",
    "\n",
    "    precision, recall, _ = precision_recall_curve(y_true, y_pred_prob)\n",
    "    auc_val = auc(recall, precision)\n",
    "    plt.figure()\n",
    "    plt.plot(recall, precision, label=f\"AUC-PR = {auc_val:.2f}\")\n",
    "    plt.xlabel(\"Recall\")\n",
    "    plt.ylabel(\"Precision\")\n",
    "    plt.title(\"Precision–Recall Curve\")\n",
    "    plt.legend()\n",
    "    plt.grid(True)\n",
    "    plt.savefig(plots_dir / f\"pr_curve_fold_{fold+1}.png\")\n",
    "    plt.close()\n",
    "\n",
    "    metrics_summary.append({\n",
    "        \"fold\": fold+1,\n",
    "        \"f1\": f1,\n",
    "        \"auc_pr\": auc_pr_value,\n",
    "        \"auc_roc\": auc_roc_value,\n",
    "        \"sensitivity\": sensitivity,\n",
    "        \"specificity\": specificity\n",
    "    })\n",
    "    return auc_val"
   ]
  },
  {
   "cell_type": "markdown",
   "id": "8b0c3eef",
   "metadata": {},
   "source": [
    "#### Funkcja `train_one_fold`\n",
    "Funkcja odpowiedzialna za przeprowadzenie treningu i ewaluacji modelu dla jednej iteracji walidacji krzyżowej"
   ]
  },
  {
   "cell_type": "code",
   "execution_count": null,
   "id": "8c2b26c1",
   "metadata": {},
   "outputs": [],
   "source": [
    "def train_one_fold(fold, train_idx, val_idx, df, plots_dir, metrics_summary):\n",
    "    train_paths = df.iloc[train_idx]['path'].tolist()\n",
    "    train_labels = df.iloc[train_idx]['label_risk_group'].tolist()\n",
    "    val_paths = df.iloc[val_idx]['path'].tolist()\n",
    "    val_labels = df.iloc[val_idx]['label_risk_group'].tolist()\n",
    "\n",
    "    train_ds = make_dataset(train_paths, train_labels)\n",
    "    val_ds = make_dataset(val_paths, val_labels, shuffle=False)\n",
    "    class_weights = get_custom_class_weights(train_labels)\n",
    "    model = build_model()\n",
    "    model.fit(train_ds, validation_data=val_ds, epochs=30,\n",
    "              callbacks=get_callbacks(), class_weight=class_weights)\n",
    "    return model, evaluate_model(model, val_ds, fold, plots_dir, metrics_summary)"
   ]
  },
  {
   "cell_type": "markdown",
   "id": "ec162dcc",
   "metadata": {},
   "source": [
    "#### Funkcja `run_cross_validation`\n",
    "Funkcja odpowiedzialna za wykonanie 5-krotnej walidacji krzyżowej z zachowaniem proporcji klas"
   ]
  },
  {
   "cell_type": "code",
   "execution_count": null,
   "id": "c8d9f102",
   "metadata": {},
   "outputs": [],
   "source": [
    "def run_cross_validation(df):\n",
    "    skf = StratifiedKFold(n_splits=5, shuffle=True, random_state=42)\n",
    "    plots_dir = Path(\"plots\"); \n",
    "    plots_dir.mkdir(parents=True, exist_ok=True)\n",
    "    metrics_summary = []\n",
    "    best_model = None\n",
    "    best_auc = 0.0\n",
    "\n",
    "    for fold, (train_idx, val_idx) in enumerate(skf.split(df['path'], df['label_risk_group'])):\n",
    "        print(f\"\\n Fold {fold+1}/5\")\n",
    "        model, auc_score = train_one_fold(fold, train_idx, val_idx, df, plots_dir, metrics_summary)\n",
    "        if auc_score > best_auc:\n",
    "            best_auc = auc_score\n",
    "            best_model = model\n",
    "\n",
    "    return best_model, metrics_summary"
   ]
  },
  {
   "cell_type": "markdown",
   "id": "3a63aab0",
   "metadata": {},
   "source": [
    "#### Funkcja `save_results`\n",
    "Funkcja odpowiedzialna za zapisanie modelu i miar do plików"
   ]
  },
  {
   "cell_type": "code",
   "execution_count": null,
   "id": "92e2649d",
   "metadata": {},
   "outputs": [],
   "source": [
    "def save_results(model, metrics):\n",
    "    model.save(\"resnet50_best_model.h5\")\n",
    "    pd.DataFrame(metrics).to_csv(\"crossval_metrics.csv\", index=False)"
   ]
  },
  {
   "cell_type": "markdown",
   "id": "f9d628ae",
   "metadata": {},
   "source": [
    "#### Wywołanie potrzebnych funkcji"
   ]
  },
  {
   "cell_type": "code",
   "execution_count": null,
   "id": "bb1443f1",
   "metadata": {},
   "outputs": [],
   "source": [
    "best_model, metrics_summary = run_cross_validation(df)\n",
    "save_results(best_model, metrics_summary)"
   ]
  }
 ],
 "metadata": {
  "kernelspec": {
   "display_name": "Python 3",
   "language": "python",
   "name": "python3"
  },
  "language_info": {
   "codemirror_mode": {
    "name": "ipython",
    "version": 3
   },
   "file_extension": ".py",
   "mimetype": "text/x-python",
   "name": "python",
   "nbconvert_exporter": "python",
   "pygments_lexer": "ipython3",
   "version": "3.11.9"
  }
 },
 "nbformat": 4,
 "nbformat_minor": 5
}
