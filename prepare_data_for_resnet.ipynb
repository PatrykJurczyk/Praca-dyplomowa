{
 "cells": [
  {
   "cell_type": "markdown",
   "id": "4b0b4b1e",
   "metadata": {},
   "source": [
    "## 4.4.1. Przygotowanie danych do klasyfikacji"
   ]
  },
  {
   "cell_type": "markdown",
   "id": "f254a634",
   "metadata": {},
   "source": [
    "#### Generowanie plików pythonowych na podstawie notebooków"
   ]
  },
  {
   "cell_type": "code",
   "execution_count": 1,
   "id": "e7b04cbb",
   "metadata": {},
   "outputs": [
    {
     "name": "stderr",
     "output_type": "stream",
     "text": [
      "[NbConvertApp] Converting notebook copy_files_classification.ipynb to script\n",
      "[NbConvertApp] Writing 1942 bytes to copy_files_classification.py\n",
      "[NbConvertApp] Converting notebook split_data.ipynb to script\n",
      "[NbConvertApp] Writing 2126 bytes to split_data.py\n"
     ]
    }
   ],
   "source": [
    "!jupyter nbconvert --to script copy_files_classification.ipynb\n",
    "!jupyter nbconvert --to script split_data.ipynb"
   ]
  },
  {
   "cell_type": "markdown",
   "id": "f5cd33e5",
   "metadata": {},
   "source": [
    "#### Importy"
   ]
  },
  {
   "cell_type": "code",
   "execution_count": 2,
   "id": "327910ec",
   "metadata": {},
   "outputs": [],
   "source": [
    "import tensorflow as tf\n",
    "import numpy as np\n",
    "import cv2\n",
    "from pathlib import Path\n",
    "from copy_files_classification import process_copy_classification\n",
    "from split_data import run_data_split"
   ]
  },
  {
   "cell_type": "markdown",
   "id": "cb95807d",
   "metadata": {},
   "source": [
    "#### Konfiguracja ścieżek\n"
   ]
  },
  {
   "cell_type": "code",
   "execution_count": null,
   "id": "f797416e",
   "metadata": {},
   "outputs": [],
   "source": [
    "input_dir = Path(\"./data/processed/images\")\n",
    "output_dir = Path(\"./data/processed/resized/resnet\")\n",
    "output_dir.mkdir(parents=True, exist_ok=True)"
   ]
  },
  {
   "cell_type": "markdown",
   "id": "f54c9952",
   "metadata": {},
   "source": [
    "#### Załadowanie modelu U-Net"
   ]
  },
  {
   "cell_type": "code",
   "execution_count": null,
   "id": "75f664c6",
   "metadata": {},
   "outputs": [],
   "source": [
    "model = tf.keras.models.load_model(\"./unet_best_model.h5\", compile=False)"
   ]
  },
  {
   "cell_type": "markdown",
   "id": "856d0b3b",
   "metadata": {},
   "source": [
    "#### Funkcja `predict_mask`\n",
    "Funkcja odpowiadająca za predykcje maski z modelu U-Net i jej przeskalowanie\n"
   ]
  },
  {
   "cell_type": "code",
   "execution_count": null,
   "id": "c0a7952d",
   "metadata": {},
   "outputs": [],
   "source": [
    "def predict_mask(image, model):\n",
    "    resized_image = cv2.resize(image, (256, 256))\n",
    "    normalized_image = resized_image / 255.0\n",
    "    input_tensor = np.expand_dims(normalized_image, axis=0)\n",
    "    predicted = model.predict(input_tensor)[0, :, :, 0]\n",
    "    binary_mask = (predicted > 0.5).astype(np.uint8) * 255\n",
    "    return cv2.resize(binary_mask, (image.shape[1], image.shape[0]), interpolation=cv2.INTER_NEAREST)\n"
   ]
  },
  {
   "cell_type": "markdown",
   "id": "5f4ae0ee",
   "metadata": {},
   "source": [
    "#### Funkcja `get_padded_bbox`\n",
    "Funkcja odpowiedzialna za znalezienie rozszerzonego bounding boxa na podstawie maski."
   ]
  },
  {
   "cell_type": "code",
   "execution_count": null,
   "id": "51bb66ae",
   "metadata": {},
   "outputs": [],
   "source": [
    "def get_padded_bbox(mask, padding_ratio=0.1):\n",
    "    kernel = np.ones((20, 20), np.uint8)\n",
    "    dilated = cv2.dilate(mask, kernel, iterations=1)\n",
    "    contours, _ = cv2.findContours(dilated, cv2.RETR_EXTERNAL, cv2.CHAIN_APPROX_SIMPLE)\n",
    "    \n",
    "    if not contours:\n",
    "        return None\n",
    "\n",
    "    x_min, y_min = float('inf'), float('inf')\n",
    "    x_max, y_max = 0, 0\n",
    "\n",
    "    for c in contours:\n",
    "        x, y, w, h = cv2.boundingRect(c)\n",
    "        x_min = min(x_min, x)\n",
    "        y_min = min(y_min, y)\n",
    "        x_max = max(x_max, x + w)\n",
    "        y_max = max(y_max, y + h)\n",
    "\n",
    "    w = x_max - x_min\n",
    "    h = y_max - y_min\n",
    "    x_min = max(int(x_min - w * padding_ratio), 0)\n",
    "    y_min = max(int(y_min - h * padding_ratio), 0)\n",
    "    x_max = min(int(x_max + w * padding_ratio), mask.shape[1])\n",
    "    y_max = min(int(y_max + h * padding_ratio), mask.shape[0])\n",
    "\n",
    "    return x_min, y_min, x_max, y_max\n"
   ]
  },
  {
   "cell_type": "markdown",
   "id": "585e2f84",
   "metadata": {},
   "source": [
    "#### Funkcja `process_image`\n",
    "Funkcja odpowiedzialna za przetworzenie (obrazu maskowanie, wycięcie, resize i zapis)"
   ]
  },
  {
   "cell_type": "code",
   "execution_count": null,
   "id": "fcf84051",
   "metadata": {},
   "outputs": [],
   "source": [
    "def process_image(image_path, model, output_dir):\n",
    "    image = cv2.imread(str(image_path))\n",
    "    if image is None:\n",
    "        print(f\"Nie udało się wczytać: {image_path}\")\n",
    "        return\n",
    "\n",
    "    mask = predict_mask(image, model)\n",
    "    bbox = get_padded_bbox(mask)\n",
    "\n",
    "    if bbox is None:\n",
    "        print(f\"Brak segmentacji dla {image_path}.\")\n",
    "        return\n",
    "\n",
    "    x_min, y_min, x_max, y_max = bbox\n",
    "    cropped = image[y_min:y_max, x_min:x_max]\n",
    "    resized_cropped = cv2.resize(cropped, (224, 224))\n",
    "\n",
    "    cv2.imwrite(str(output_dir / image_path.name), resized_cropped)\n"
   ]
  },
  {
   "cell_type": "markdown",
   "id": "e2808b0f",
   "metadata": {},
   "source": [
    "#### Przetwarzanie całego katalogu obrazów"
   ]
  },
  {
   "cell_type": "code",
   "execution_count": null,
   "id": "f28537e1",
   "metadata": {},
   "outputs": [],
   "source": [
    "for image_path in input_dir.glob(\"*.[jp][pn]g\"):\n",
    "    process_image(image_path, model, output_dir)"
   ]
  },
  {
   "cell_type": "markdown",
   "id": "5bee0a36",
   "metadata": {},
   "source": [
    "#### Przeprowadzenie podziału danych na zbiór teningowy i testowy i zapisanie danych do plików .csv"
   ]
  },
  {
   "cell_type": "code",
   "execution_count": 3,
   "id": "eaa33dd7",
   "metadata": {},
   "outputs": [
    {
     "name": "stdout",
     "output_type": "stream",
     "text": [
      "Zapisano train.csv i test.csv w data\\processed\\images_to_train\\resnet\n",
      "Wierszy: train=9007, test=1008\n"
     ]
    }
   ],
   "source": [
    "run_data_split(Path(\"./data/processed/HAM10000_metadata_clean.csv\"), Path(\"./data/processed/images_to_train/resnet\"), 0.10, 42)"
   ]
  },
  {
   "cell_type": "markdown",
   "id": "ff08500c",
   "metadata": {},
   "source": [
    "#### Skopiowanie zdjęć zawartych w pliku test.csv do folderu test "
   ]
  },
  {
   "cell_type": "code",
   "execution_count": 4,
   "id": "3cc05244",
   "metadata": {},
   "outputs": [
    {
     "name": "stdout",
     "output_type": "stream",
     "text": [
      "Skopiowano 1008 plików z `resnet` do `data\\processed\\images_to_train\\resnet\\test`\n"
     ]
    }
   ],
   "source": [
    "process_copy_classification(Path(\"./data/processed/resized/resnet\"), Path(\"./data/processed/images_to_train/resnet/test.csv\"), Path(\"./data/processed/images_to_train/resnet\"), \"test\")"
   ]
  },
  {
   "cell_type": "markdown",
   "id": "6c02279c",
   "metadata": {},
   "source": [
    "#### Skopiowanie zdjęć zawartych w pliku train.csv do folderu train "
   ]
  },
  {
   "cell_type": "code",
   "execution_count": 5,
   "id": "42cbdd34",
   "metadata": {},
   "outputs": [
    {
     "name": "stdout",
     "output_type": "stream",
     "text": [
      "Skopiowano 9007 plików z `resnet` do `data\\processed\\images_to_train\\resnet\\train`\n"
     ]
    }
   ],
   "source": [
    "process_copy_classification(Path(\"./data/processed/resized/resnet\"), Path(\"./data/processed/images_to_train/resnet/train.csv\"), Path(\"./data/processed/images_to_train/resnet\"), \"train\")"
   ]
  }
 ],
 "metadata": {
  "kernelspec": {
   "display_name": "Python 3",
   "language": "python",
   "name": "python3"
  },
  "language_info": {
   "codemirror_mode": {
    "name": "ipython",
    "version": 3
   },
   "file_extension": ".py",
   "mimetype": "text/x-python",
   "name": "python",
   "nbconvert_exporter": "python",
   "pygments_lexer": "ipython3",
   "version": "3.11.9"
  }
 },
 "nbformat": 4,
 "nbformat_minor": 5
}
