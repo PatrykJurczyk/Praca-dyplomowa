{
 "cells": [
  {
   "cell_type": "markdown",
   "id": "4b5aa43c",
   "metadata": {},
   "source": [
    "## 4.2. Przetwarzanie wstępne obrazów"
   ]
  },
  {
   "cell_type": "markdown",
   "id": "bee2fcb6",
   "metadata": {},
   "source": [
    "#### Importowanie bibliotek"
   ]
  },
  {
   "cell_type": "code",
   "execution_count": 1,
   "id": "38608991",
   "metadata": {},
   "outputs": [],
   "source": [
    "import cv2\n",
    "from pathlib import Path"
   ]
  },
  {
   "cell_type": "markdown",
   "id": "63641080",
   "metadata": {},
   "source": [
    "#### Funkcja `enhance_contrast`\n",
    "Wzmocnienie kontrastu obrazu za pomocą CLAHE w przestrzeni LAB."
   ]
  },
  {
   "cell_type": "code",
   "execution_count": 2,
   "id": "f3b115f6",
   "metadata": {},
   "outputs": [],
   "source": [
    "def enhance_contrast(image, clipLimit=0.85, tileGridSize=(4,4)):\n",
    "    lab = cv2.cvtColor(image, cv2.COLOR_BGR2LAB)\n",
    "    l, a, b = cv2.split(lab)\n",
    "    clahe = cv2.createCLAHE(clipLimit=clipLimit, tileGridSize=tileGridSize)\n",
    "    cl = clahe.apply(l)\n",
    "    limg = cv2.merge((cl, a, b))\n",
    "    return cv2.cvtColor(limg, cv2.COLOR_LAB2BGR)"
   ]
  },
  {
   "cell_type": "markdown",
   "id": "b3f2fa06",
   "metadata": {},
   "source": [
    "#### Funkcja `remove_hair`\n",
    "Usuwanie włosów za pomocą operacji blackhat i inpaintingu."
   ]
  },
  {
   "cell_type": "code",
   "execution_count": 3,
   "id": "09c8743f",
   "metadata": {},
   "outputs": [],
   "source": [
    "def remove_hair(image, kernel_size=(7,7), inpaint_radius=5):\n",
    "    gray = cv2.cvtColor(image, cv2.COLOR_BGR2GRAY)\n",
    "    blur = cv2.GaussianBlur(gray, (5,5), 0)\n",
    "    kernel = cv2.getStructuringElement(cv2.MORPH_RECT, kernel_size)\n",
    "    blackhat = cv2.morphologyEx(blur, cv2.MORPH_BLACKHAT, kernel)\n",
    "    _, mask = cv2.threshold(blackhat, 0, 255, cv2.THRESH_OTSU)\n",
    "    return cv2.inpaint(image, mask, inpaint_radius, cv2.INPAINT_TELEA)"
   ]
  },
  {
   "cell_type": "markdown",
   "id": "4ba6531e",
   "metadata": {},
   "source": [
    "#### Funkcja `preprocess_image`\n",
    "Pełny preprocessing obrazu: CLAHE + usuwanie włosów."
   ]
  },
  {
   "cell_type": "code",
   "execution_count": 4,
   "id": "ece41bd7",
   "metadata": {},
   "outputs": [],
   "source": [
    "def preprocess_image(image):\n",
    "    img1 = enhance_contrast(image)\n",
    "    img2 = remove_hair(img1)\n",
    "    return img2"
   ]
  },
  {
   "cell_type": "markdown",
   "id": "4380dcbc",
   "metadata": {},
   "source": [
    "#### Funkcja `preprocess_folder`\n",
    "Przetwarzanie wszystkich obrazów z wskazanych katalogów `input_dirs` i zapisywanie do `output_dir`."
   ]
  },
  {
   "cell_type": "code",
   "execution_count": 5,
   "id": "fce20776",
   "metadata": {},
   "outputs": [],
   "source": [
    "def preprocess_folders(input_dirs, output_dir):\n",
    "    output_path = Path(output_dir)\n",
    "    \n",
    "    for root in input_dirs:\n",
    "        input_path = Path(root)\n",
    "        for img_file in input_path.rglob('*.*'):\n",
    "            \n",
    "            if not img_file.is_file():\n",
    "                continue\n",
    "            img = cv2.imread(str(img_file))\n",
    "            \n",
    "            if img is None:\n",
    "                print(f'Nie wczytano {img_file}')\n",
    "                continue\n",
    "            \n",
    "            proc = preprocess_image(img)\n",
    "\n",
    "            rel = img_file.relative_to(input_path)\n",
    "            target = output_path / rel\n",
    "            target.parent.mkdir(parents=True, exist_ok=True)\n",
    "            cv2.imwrite(str(target), proc)"
   ]
  }
 ],
 "metadata": {
  "kernelspec": {
   "display_name": "Python 3",
   "language": "python",
   "name": "python3"
  },
  "language_info": {
   "codemirror_mode": {
    "name": "ipython",
    "version": 3
   },
   "file_extension": ".py",
   "mimetype": "text/x-python",
   "name": "python",
   "nbconvert_exporter": "python",
   "pygments_lexer": "ipython3",
   "version": "3.11.9"
  }
 },
 "nbformat": 4,
 "nbformat_minor": 5
}
