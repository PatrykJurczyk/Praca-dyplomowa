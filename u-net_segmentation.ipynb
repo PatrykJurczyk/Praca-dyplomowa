{
 "cells": [
  {
   "cell_type": "markdown",
   "id": "12f9181b",
   "metadata": {},
   "source": [
    "### 4.3.2. U-Net - przygotowanie danych i trening"
   ]
  },
  {
   "cell_type": "markdown",
   "id": "fce22181",
   "metadata": {},
   "source": [
    "#### Importy i ustawienia środowiska"
   ]
  },
  {
   "cell_type": "code",
   "execution_count": null,
   "id": "493665a8",
   "metadata": {},
   "outputs": [],
   "source": [
    "from pathlib import Path\n",
    "import random\n",
    "import cv2\n",
    "import numpy as np\n",
    "import tensorflow as tf\n",
    "from sklearn.model_selection import GroupKFold\n",
    "from tensorflow.keras import layers, models, optimizers, callbacks"
   ]
  },
  {
   "cell_type": "markdown",
   "id": "b1288352",
   "metadata": {},
   "source": [
    "#### Funkcja `load_image`\n",
    "Funkcja odpowiedzialna za wczytanie obrazu i normalizacja pikseli do [0,1]."
   ]
  },
  {
   "cell_type": "code",
   "execution_count": null,
   "id": "9070440c",
   "metadata": {},
   "outputs": [],
   "source": [
    "def load_image(path):\n",
    "    img = cv2.imread(str(path))\n",
    "    if img is None:\n",
    "        print(\"Nie można wczytać obrazu\")\n",
    "        return None\n",
    "    return img.astype(np.float32) / 255.0"
   ]
  },
  {
   "cell_type": "markdown",
   "id": "152ebc67",
   "metadata": {},
   "source": [
    "#### Funkcja `load_mask`\n",
    "Funkcja odpowiedziana za wczytanie obrazu maski i zastosowanie label smoothing który poprawia stabilność uczenia i ułatwia generalizację modelu"
   ]
  },
  {
   "cell_type": "code",
   "execution_count": null,
   "id": "cf5e804c",
   "metadata": {},
   "outputs": [],
   "source": [
    "def load_mask(path, smooth=0.1):\n",
    "    mask = cv2.imread(str(path), cv2.IMREAD_GRAYSCALE)\n",
    "    if mask is None:\n",
    "        print(\"Nie można wczytać maski\")\n",
    "        return None\n",
    "    m = mask.astype(np.float32) / 255.0\n",
    "    \n",
    "    m = m * (1 - smooth) + (smooth / 2)\n",
    "    return np.expand_dims(m, axis=-1)"
   ]
  },
  {
   "cell_type": "markdown",
   "id": "f31d9192",
   "metadata": {},
   "source": [
    "#### Funkcja `augmentation`\n",
    "Funkcja odpowiedzialna za przeprowadzenie odbicia poziomego, rotacji, zmiany jasności i kontrastu na zdjęciach"
   ]
  },
  {
   "cell_type": "code",
   "execution_count": null,
   "id": "3861e9ba",
   "metadata": {},
   "outputs": [],
   "source": [
    "def augmentation(img, mask):\n",
    "    if random.random() < 0.5:\n",
    "        img = cv2.flip(img, 1)\n",
    "        mask = cv2.flip(mask, 1)\n",
    "    if random.random() < 0.5:\n",
    "        angle = random.uniform(-30, 30)\n",
    "        h, w = img.shape[:2]\n",
    "        center = (w // 2, h // 2)\n",
    "        M = cv2.getRotationMatrix2D(center, angle, 1.0)\n",
    "        img = cv2.warpAffine(img, M, (w, h))\n",
    "        mask = cv2.warpAffine(mask, M, (w, h))\n",
    "    if random.random() < 0.5:\n",
    "        alpha = random.uniform(0.8, 1.2)\n",
    "        beta = random.uniform(-0.1, 0.1)\n",
    "        img = np.clip(img * alpha + beta, 0, 1)\n",
    "\n",
    "    return img, mask"
   ]
  },
  {
   "cell_type": "markdown",
   "id": "82806494",
   "metadata": {},
   "source": [
    "#### Funkcja `data_generator`\n",
    "Funkcja odpowiedzialna za generowanie batchy zawierających pary obrazy, maski wraz z augmentacjami"
   ]
  },
  {
   "cell_type": "code",
   "execution_count": null,
   "id": "95d0d4d5",
   "metadata": {},
   "outputs": [],
   "source": [
    "def data_generator(pairs, batch_size=8):\n",
    "    while True:\n",
    "        random.shuffle(pairs)\n",
    "        for i in range(0, len(pairs), batch_size):\n",
    "            batch = pairs[i:i+batch_size]\n",
    "            imgs, msks = [], []\n",
    "            for img_path, msk_path in batch:\n",
    "                img = load_image(img_path)\n",
    "                if img is None:\n",
    "                    continue\n",
    "\n",
    "                msk2d = load_mask(msk_path)[..., 0]\n",
    "                if msk2d is None:\n",
    "                    continue\n",
    "\n",
    "                img_aug, mask_aug = augmentation(img, msk2d)\n",
    "                imgs.append(img_aug)\n",
    "                msks.append(np.expand_dims(mask_aug, axis=-1))\n",
    "            imgs_array = np.stack(imgs, axis=0)\n",
    "            msks_array = np.stack(msks, axis=0)\n",
    "            yield imgs_array, msks_array"
   ]
  },
  {
   "cell_type": "markdown",
   "id": "5715167b",
   "metadata": {},
   "source": [
    "#### Funkcja `unet_model`\n",
    "Budowa 5-poziomowego U-Net modelu"
   ]
  },
  {
   "cell_type": "code",
   "execution_count": null,
   "id": "f9260dc3",
   "metadata": {},
   "outputs": [],
   "source": [
    "def unet_model(input_size=(256, 256, 3)):\n",
    "    inputs = layers.Input(input_size)\n",
    "\n",
    "    # Encoder\n",
    "    c1 = layers.Conv2D(64, 3, activation='relu', padding='same')(inputs)\n",
    "    c1 = layers.Conv2D(64, 3, activation='relu', padding='same')(c1)\n",
    "    p1 = layers.MaxPooling2D(2)(c1)\n",
    "    c2 = layers.Conv2D(128, 3, activation='relu', padding='same')(p1)\n",
    "    c2 = layers.Conv2D(128, 3, activation='relu', padding='same')(c2)\n",
    "    p2 = layers.MaxPooling2D(2)(c2)\n",
    "    c3 = layers.Conv2D(256, 3, activation='relu', padding='same')(p2)\n",
    "    c3 = layers.Conv2D(256, 3, activation='relu', padding='same')(c3)\n",
    "    p3 = layers.MaxPooling2D(2)(c3)\n",
    "    c4 = layers.Conv2D(512, 3, activation='relu', padding='same')(p3)\n",
    "    c4 = layers.Conv2D(512, 3, activation='relu', padding='same')(c4)\n",
    "    p4 = layers.MaxPooling2D(2)(c4)\n",
    "\n",
    "    # Bottleneck\n",
    "    c5 = layers.Conv2D(1024, 3, activation='relu', padding='same')(p4)\n",
    "    c5 = layers.Conv2D(1024, 3, activation='relu', padding='same')(c5)\n",
    "\n",
    "    # Decoder\n",
    "    u6 = layers.Conv2DTranspose(512, 2, strides=2, padding='same')(c5)\n",
    "    u6 = layers.concatenate([u6, c4])\n",
    "    c6 = layers.Conv2D(512, 3, activation='relu', padding='same')(u6)\n",
    "    c6 = layers.Conv2D(512, 3, activation='relu', padding='same')(c6)\n",
    "    u7 = layers.Conv2DTranspose(256, 2, strides=2, padding='same')(c6)\n",
    "    u7 = layers.concatenate([u7, c3])\n",
    "    c7 = layers.Conv2D(256, 3, activation='relu', padding='same')(u7)\n",
    "    c7 = layers.Conv2D(256, 3, activation='relu', padding='same')(c7)\n",
    "    u8 = layers.Conv2DTranspose(128, 2, strides=2, padding='same')(c7)\n",
    "    u8 = layers.concatenate([u8, c2])\n",
    "    c8 = layers.Conv2D(128, 3, activation='relu', padding='same')(u8)\n",
    "    c8 = layers.Conv2D(128, 3, activation='relu', padding='same')(c8)\n",
    "    u9 = layers.Conv2DTranspose(64, 2, strides=2, padding='same')(c8)\n",
    "    u9 = layers.concatenate([u9, c1])\n",
    "    c9 = layers.Conv2D(64, 3, activation='relu', padding='same')(u9)\n",
    "    c9 = layers.Conv2D(64, 3, activation='relu', padding='same')(c9)\n",
    "    outputs = layers.Conv2D(1, 1, activation='sigmoid')(c9)\n",
    "    \n",
    "    return models.Model(inputs, outputs)"
   ]
  },
  {
   "cell_type": "markdown",
   "id": "6e876bfe",
   "metadata": {},
   "source": [
    "#### Funkcja `iou_metric`\n",
    "Funkcja wyliczająca miarę IoU"
   ]
  },
  {
   "cell_type": "code",
   "execution_count": null,
   "id": "815325b0",
   "metadata": {},
   "outputs": [],
   "source": [
    "def iou_metric(y_true, y_pred, smooth=1e-6):\n",
    "    y_pred = tf.round(y_pred)\n",
    "    inter = tf.reduce_sum(y_true * y_pred)\n",
    "    union = tf.reduce_sum(y_true) + tf.reduce_sum(y_pred) - inter\n",
    "    return (inter + smooth) / (union + smooth)"
   ]
  },
  {
   "cell_type": "markdown",
   "id": "c93215b2",
   "metadata": {},
   "source": [
    "#### Funkcja `dice_coef`\n",
    "Funkcja wylicająca miarę DICE"
   ]
  },
  {
   "cell_type": "code",
   "execution_count": null,
   "id": "1e1d9212",
   "metadata": {},
   "outputs": [],
   "source": [
    "def dice_coef(y_true, y_pred, smooth=1e-6):\n",
    "    y_pred = tf.round(y_pred)\n",
    "    inter = tf.reduce_sum(y_true * y_pred)\n",
    "    return (2 * inter + smooth) / (tf.reduce_sum(y_true) + tf.reduce_sum(y_pred) + smooth)"
   ]
  },
  {
   "cell_type": "markdown",
   "id": "a26189c7",
   "metadata": {},
   "source": [
    "#### Funkcja `recall_metric`\n",
    "Funkcja wyliczająca miarę recall"
   ]
  },
  {
   "cell_type": "code",
   "execution_count": null,
   "id": "6ba0b3e6",
   "metadata": {},
   "outputs": [],
   "source": [
    "def recall_metric(y_true, y_pred, smooth=1e-6):\n",
    "    y_pred = tf.round(y_pred)\n",
    "    tp = tf.reduce_sum(y_true * y_pred)\n",
    "    return (tp + smooth) / (tf.reduce_sum(y_true) + smooth)"
   ]
  },
  {
   "cell_type": "markdown",
   "id": "df211eb9",
   "metadata": {},
   "source": [
    "#### Funkcja `bce_dice_loss`\n",
    "Funkcja obliczająca stratę"
   ]
  },
  {
   "cell_type": "code",
   "execution_count": null,
   "id": "b79bc556",
   "metadata": {},
   "outputs": [],
   "source": [
    "def bce_dice_loss(y_true, y_pred):\n",
    "    bce = tf.keras.losses.binary_crossentropy(y_true, y_pred)\n",
    "    dice = 1 - dice_coef(y_true, y_pred)\n",
    "    return 0.7 * bce + 0.3 * dice"
   ]
  },
  {
   "cell_type": "markdown",
   "id": "00bd4454",
   "metadata": {},
   "source": [
    "#### Przygotowanie listy par obraz–maska i identyfikatorów grup"
   ]
  },
  {
   "cell_type": "code",
   "execution_count": null,
   "id": "5433e038",
   "metadata": {},
   "outputs": [],
   "source": [
    "pairs, groups = [], []\n",
    "for img_path in sorted(Path(\"./processed/images_to_train/train/images\").glob(\"*.*\")):\n",
    "    base = img_path.stem\n",
    "    mask_path = Path(\"./processed/images_to_train/train/masks\") / f\"{base}.jpg\"\n",
    "    if not mask_path.exists():\n",
    "        continue\n",
    "    pairs.append((img_path, mask_path, base))\n",
    "    groups.append(base)"
   ]
  },
  {
   "cell_type": "markdown",
   "id": "3e553f92",
   "metadata": {},
   "source": [
    "#### Cross‐validation i trening U-Net  \n",
    "Pętla wykonuje 5-krotną walidację krzyżową z GroupKFold, trenując i walidując model U-Net w każdym foldzie oraz śledząc najlepszy model na podstawie współczynnika Dice.\n"
   ]
  },
  {
   "cell_type": "code",
   "execution_count": null,
   "id": "66fda588",
   "metadata": {},
   "outputs": [],
   "source": [
    "gkf = GroupKFold(n_splits=5)\n",
    "best_dice = -1.0\n",
    "best_model = None\n",
    "\n",
    "for fold, (train_idx, val_idx) in enumerate(gkf.split(pairs, groups=groups), start=1):\n",
    "    train_pairs = []\n",
    "    for i in train_idx:\n",
    "        img_path, mask_path, _ = pairs[i]\n",
    "        train_pairs.append((img_path, mask_path))\n",
    "\n",
    "    val_pairs = []\n",
    "    for i in val_idx:\n",
    "        img_path, mask_path, _ = pairs[i]\n",
    "        val_pairs.append((img_path, mask_path))\n",
    "\n",
    "    train_gen = data_generator(train_pairs, batch_size=8)\n",
    "    val_gen = data_generator(val_pairs, batch_size=8)\n",
    "\n",
    "    model = unet_model()\n",
    "    model.compile(optimizer=optimizers.Adam(1e-4), loss=bce_dice_loss,\n",
    "                  metrics=[iou_metric, dice_coef, recall_metric])\n",
    "\n",
    "    history = model.fit(train_gen, steps_per_epoch=len(train_pairs)//8, validation_data=val_gen,\n",
    "                        validation_steps=len(val_pairs)//8, epochs=50, callbacks=[\n",
    "                        callbacks.ReduceLROnPlateau(monitor='val_dice_coef', factor=0.5, patience=5), callbacks.EarlyStopping(monitor='val_iou_metric', patience=4, restore_best_weights=True)])\n",
    "\n",
    "    scores = model.evaluate(val_gen, steps=len(val_pairs)//8, return_dict=True)\n",
    "\n",
    "    print(\n",
    "        f\"Fold {fold}: IoU={scores['iou_metric']:.4f}, Dice={scores['dice_coef']:.4f}, Recall={scores['recall_metric']:.4f}\")\n",
    "    \n",
    "    if scores['dice_coef'] > best_dice:\n",
    "        best_dice = scores['dice_coef']\n",
    "        best_model = model"
   ]
  },
  {
   "cell_type": "markdown",
   "id": "cc1afa2d",
   "metadata": {},
   "source": [
    "#### Zapisanie najlepszego modelu"
   ]
  },
  {
   "cell_type": "code",
   "execution_count": null,
   "id": "d29ee7f3",
   "metadata": {},
   "outputs": [],
   "source": [
    "best_model.save(\"unet_best_model.h5\")\n",
    "print(f\"\\nNajlepszy Dice Coef: {best_dice:.4f} → zapisano unet_best_model.h5\")"
   ]
  }
 ],
 "metadata": {
  "kernelspec": {
   "display_name": "Python 3",
   "language": "python",
   "name": "python3"
  },
  "language_info": {
   "codemirror_mode": {
    "name": "ipython",
    "version": 3
   },
   "file_extension": ".py",
   "mimetype": "text/x-python",
   "name": "python",
   "nbconvert_exporter": "python",
   "pygments_lexer": "ipython3",
   "version": "3.11.9"
  }
 },
 "nbformat": 4,
 "nbformat_minor": 5
}
