{
 "cells": [
  {
   "cell_type": "markdown",
   "id": "8a474026",
   "metadata": {},
   "source": [
    "## Predykcja zmiany za pomoca wytenowanego modelu (Statystyki)"
   ]
  },
  {
   "cell_type": "markdown",
   "id": "0fd918b4",
   "metadata": {},
   "source": [
    "#### Import bibliotek"
   ]
  },
  {
   "cell_type": "code",
   "execution_count": 2,
   "id": "33664c38",
   "metadata": {},
   "outputs": [],
   "source": [
    "import tensorflow as tf\n",
    "import numpy as np\n",
    "import pandas as pd\n",
    "import matplotlib.pyplot as plt\n",
    "from sklearn.metrics import confusion_matrix, ConfusionMatrixDisplay"
   ]
  },
  {
   "cell_type": "markdown",
   "id": "de6f911f",
   "metadata": {},
   "source": [
    "#### Funkcja `load_image`\n",
    "Funkcja odpowiedzialna za wczytanie obrazu, jego dekodowanie, skalowanie do rozmiaru 224×224 oraz normalizację do [0, 1]."
   ]
  },
  {
   "cell_type": "code",
   "execution_count": 3,
   "id": "8b6883e6",
   "metadata": {},
   "outputs": [],
   "source": [
    "def load_image(path):\n",
    "    image = tf.io.read_file(path)\n",
    "    image = tf.image.decode_jpeg(image, channels=3)\n",
    "    image = tf.image.resize(image, (224, 224))  / 255.0\n",
    "    return image"
   ]
  },
  {
   "cell_type": "markdown",
   "id": "ac0d3e8e",
   "metadata": {},
   "source": [
    "#### Wczytanie modelu i danych testowych"
   ]
  },
  {
   "cell_type": "code",
   "execution_count": 4,
   "id": "f719ded5",
   "metadata": {},
   "outputs": [],
   "source": [
    "model = tf.keras.models.load_model(\"resnet50_best_model.h5\", compile=False)\n",
    "\n",
    "df_test = pd.read_csv(\"./data/processed/images_to_train/resnet/test.csv\")\n",
    "df_test = df_test[['path', 'risk_group']]\n",
    "data = list(df_test.itertuples(index=False, name=None))\n",
    "class_labels = ['Low Risk', 'High Risk']"
   ]
  },
  {
   "cell_type": "markdown",
   "id": "51e1a93c",
   "metadata": {},
   "source": [
    "#### Przetwarzanie danych i predykcje"
   ]
  },
  {
   "cell_type": "code",
   "execution_count": null,
   "id": "d348e9c0",
   "metadata": {},
   "outputs": [],
   "source": [
    "results = []\n",
    "\n",
    "for path, true_label in data:\n",
    "    image_input = tf.expand_dims(load_image(path), axis=0)\n",
    "    pred = model.predict(image_input, verbose=0)\n",
    "    predicted_class = class_labels[1] if pred[0][0] > 0.5 else class_labels[0]\n",
    "\n",
    "    results.append({\n",
    "        \"path\": path,\n",
    "        \"true_label\": true_label,\n",
    "        \"predicted_label\": predicted_class,\n",
    "        \"probability_high_risk\": float(pred[0][0])\n",
    "    })\n"
   ]
  },
  {
   "cell_type": "markdown",
   "id": "60e4c938",
   "metadata": {},
   "source": [
    "#### Konwersja do DataFrame i zapis wyników"
   ]
  },
  {
   "cell_type": "code",
   "execution_count": 6,
   "id": "9208592f",
   "metadata": {},
   "outputs": [
    {
     "data": {
      "text/html": [
       "<div>\n",
       "<style scoped>\n",
       "    .dataframe tbody tr th:only-of-type {\n",
       "        vertical-align: middle;\n",
       "    }\n",
       "\n",
       "    .dataframe tbody tr th {\n",
       "        vertical-align: top;\n",
       "    }\n",
       "\n",
       "    .dataframe thead th {\n",
       "        text-align: right;\n",
       "    }\n",
       "</style>\n",
       "<table border=\"1\" class=\"dataframe\">\n",
       "  <thead>\n",
       "    <tr style=\"text-align: right;\">\n",
       "      <th></th>\n",
       "      <th>path</th>\n",
       "      <th>true_label</th>\n",
       "      <th>predicted_label</th>\n",
       "      <th>probability_high_risk</th>\n",
       "    </tr>\n",
       "  </thead>\n",
       "  <tbody>\n",
       "    <tr>\n",
       "      <th>0</th>\n",
       "      <td>data\\processed\\images_to_train\\resnet\\test\\ISI...</td>\n",
       "      <td>Low Risk</td>\n",
       "      <td>Low Risk</td>\n",
       "      <td>0.401970</td>\n",
       "    </tr>\n",
       "    <tr>\n",
       "      <th>1</th>\n",
       "      <td>data\\processed\\images_to_train\\resnet\\test\\ISI...</td>\n",
       "      <td>Low Risk</td>\n",
       "      <td>Low Risk</td>\n",
       "      <td>0.426848</td>\n",
       "    </tr>\n",
       "    <tr>\n",
       "      <th>2</th>\n",
       "      <td>data\\processed\\images_to_train\\resnet\\test\\ISI...</td>\n",
       "      <td>Low Risk</td>\n",
       "      <td>Low Risk</td>\n",
       "      <td>0.250188</td>\n",
       "    </tr>\n",
       "    <tr>\n",
       "      <th>3</th>\n",
       "      <td>data\\processed\\images_to_train\\resnet\\test\\ISI...</td>\n",
       "      <td>Low Risk</td>\n",
       "      <td>Low Risk</td>\n",
       "      <td>0.412577</td>\n",
       "    </tr>\n",
       "    <tr>\n",
       "      <th>4</th>\n",
       "      <td>data\\processed\\images_to_train\\resnet\\test\\ISI...</td>\n",
       "      <td>Low Risk</td>\n",
       "      <td>Low Risk</td>\n",
       "      <td>0.137381</td>\n",
       "    </tr>\n",
       "  </tbody>\n",
       "</table>\n",
       "</div>"
      ],
      "text/plain": [
       "                                                path true_label  \\\n",
       "0  data\\processed\\images_to_train\\resnet\\test\\ISI...   Low Risk   \n",
       "1  data\\processed\\images_to_train\\resnet\\test\\ISI...   Low Risk   \n",
       "2  data\\processed\\images_to_train\\resnet\\test\\ISI...   Low Risk   \n",
       "3  data\\processed\\images_to_train\\resnet\\test\\ISI...   Low Risk   \n",
       "4  data\\processed\\images_to_train\\resnet\\test\\ISI...   Low Risk   \n",
       "\n",
       "  predicted_label  probability_high_risk  \n",
       "0        Low Risk               0.401970  \n",
       "1        Low Risk               0.426848  \n",
       "2        Low Risk               0.250188  \n",
       "3        Low Risk               0.412577  \n",
       "4        Low Risk               0.137381  "
      ]
     },
     "execution_count": 6,
     "metadata": {},
     "output_type": "execute_result"
    }
   ],
   "source": [
    "df_results = pd.DataFrame(results)\n",
    "df_results.to_csv(\"predictions_results.csv\", index=False)\n",
    "df_results.head()"
   ]
  },
  {
   "cell_type": "markdown",
   "id": "71eb60d4",
   "metadata": {},
   "source": [
    "#### Obliczenie skuteczności dla każdej klasy"
   ]
  },
  {
   "cell_type": "code",
   "execution_count": 7,
   "id": "ec1ffa71",
   "metadata": {},
   "outputs": [
    {
     "name": "stdout",
     "output_type": "stream",
     "text": [
      "Low Risk accuracy: 91.86% (734/799)\n",
      "High Risk accuracy: 38.28% (80/209)\n"
     ]
    }
   ],
   "source": [
    "def calculate_accuracy(df, group_label):\n",
    "    group_df = df[df['true_label'] == group_label]\n",
    "    total = len(group_df)\n",
    "    correct = (group_df['true_label'] == group_df['predicted_label']).sum()\n",
    "    accuracy = correct / total * 100 if total > 0 else 0\n",
    "    return accuracy, correct, total\n",
    "\n",
    "low_risk_acc, low_risk_correct, low_risk_total = calculate_accuracy(df_results, \"Low Risk\")\n",
    "high_risk_acc, high_risk_correct, high_risk_total = calculate_accuracy(df_results, \"High Risk\")\n",
    "\n",
    "print(f\"Low Risk accuracy: {low_risk_acc:.2f}% ({low_risk_correct}/{low_risk_total})\")\n",
    "print(f\"High Risk accuracy: {high_risk_acc:.2f}% ({high_risk_correct}/{high_risk_total})\")\n"
   ]
  },
  {
   "cell_type": "markdown",
   "id": "af4ceffb",
   "metadata": {},
   "source": [
    "#### Macierz pomyłek (Confusion Matrix)"
   ]
  },
  {
   "cell_type": "code",
   "execution_count": 8,
   "id": "d1873fbc",
   "metadata": {},
   "outputs": [
    {
     "data": {
      "image/png": "[encoded data removed]",
      "text/plain": [
       "<Figure size 640x480 with 2 Axes>"
      ]
     },
     "metadata": {},
     "output_type": "display_data"
    }
   ],
   "source": [
    "cm = confusion_matrix(df_results['true_label'], df_results['predicted_label'], labels=class_labels)\n",
    "disp = ConfusionMatrixDisplay(confusion_matrix=cm, display_labels=class_labels)\n",
    "disp.plot(cmap=plt.cm.Blues)\n",
    "plt.title(\"Confusion Matrix\")\n",
    "plt.show()\n"
   ]
  }
 ],
 "metadata": {
  "kernelspec": {
   "display_name": "Python 3",
   "language": "python",
   "name": "python3"
  },
  "language_info": {
   "codemirror_mode": {
    "name": "ipython",
    "version": 3
   },
   "file_extension": ".py",
   "mimetype": "text/x-python",
   "name": "python",
   "nbconvert_exporter": "python",
   "pygments_lexer": "ipython3",
   "version": "3.11.9"
  }
 },
 "nbformat": 4,
 "nbformat_minor": 5
}
